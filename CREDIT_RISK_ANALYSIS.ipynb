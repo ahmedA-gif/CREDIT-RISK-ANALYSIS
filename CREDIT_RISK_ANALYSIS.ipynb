{
  "nbformat": 4,
  "nbformat_minor": 0,
  "metadata": {
    "colab": {
      "provenance": []
    },
    "kernelspec": {
      "name": "python3",
      "display_name": "Python 3"
    },
    "language_info": {
      "name": "python"
    }
  },
  "cells": [
    {
      "cell_type": "markdown",
      "source": [
        "***LOADING MODULES***"
      ],
      "metadata": {
        "id": "u6dizYnaQh_s"
      }
    },
    {
      "cell_type": "code",
      "execution_count": 1,
      "metadata": {
        "id": "P7k6adbqHrHR"
      },
      "outputs": [],
      "source": [
        "import pandas as pd\n",
        "import numpy as np\n",
        "from sklearn.model_selection import train_test_split\n",
        "from sklearn.preprocessing import StandardScaler\n",
        "from sklearn.metrics import classification_report, roc_auc_score, confusion_matrix\n",
        "from imblearn.over_sampling import SMOTE\n",
        "from sklearn.impute import SimpleImputer\n",
        "import matplotlib.pyplot as plt\n",
        "import seaborn as sns\n",
        "import xgboost as xgb\n",
        "from sklearn.ensemble import RandomForestClassifier, GradientBoostingClassifier"
      ]
    },
    {
      "cell_type": "code",
      "source": [
        "np.random.seed(42)"
      ],
      "metadata": {
        "id": "_1XkF81-KWif"
      },
      "execution_count": 2,
      "outputs": []
    },
    {
      "cell_type": "markdown",
      "source": [
        "***LOAD AND PRE-PROCESSING***"
      ],
      "metadata": {
        "id": "jkYqBWVSQmYe"
      }
    },
    {
      "cell_type": "code",
      "source": [
        "def load_and_preprocess_data():\n",
        "    try:\n",
        "        df = pd.read_csv('GiveMeSomeCredit-training.csv')\n",
        "    except FileNotFoundError:\n",
        "        print(\"Training file not found!\")\n",
        "        return None\n",
        "\n",
        "    if 'Unnamed: 0' in df.columns:\n",
        "        df.drop('Unnamed: 0', axis=1, inplace=True)\n",
        "    if 'Id' in df.columns:\n",
        "        df.drop('Id', axis=1, inplace=True)\n",
        "    imputer = SimpleImputer(strategy='median')\n",
        "    df['MonthlyIncome'] = imputer.fit_transform(df[['MonthlyIncome']])\n",
        "    df['NumberOfDependents'] = imputer.fit_transform(df[['NumberOfDependents']])\n",
        "\n",
        "    return df\n"
      ],
      "metadata": {
        "id": "bgLkb74HKbRZ"
      },
      "execution_count": 6,
      "outputs": []
    },
    {
      "cell_type": "code",
      "source": [
        "def engineer_features(df):\n",
        "    df['DebtToIncomeRatio'] = df['RevolvingUtilizationOfUnsecuredLines'] * df['MonthlyIncome']\n",
        "    df['PaymentToIncomeRatio'] = df['DebtRatio'] * df['MonthlyIncome']\n",
        "    df['CreditHistoryLength'] = df['NumberOfOpenCreditLinesAndLoans'] / (df['age'] + 1)\n",
        "    df['DelinquencyScore'] = (\n",
        "        df['NumberOfTime30-59DaysPastDueNotWorse'] * 0.3 +\n",
        "        df['NumberOfTime60-89DaysPastDueNotWorse'] * 0.5 +\n",
        "        df['NumberOfTimes90DaysLate'] * 1.0\n",
        "    )\n",
        "    df.replace([np.inf, -np.inf], np.nan, inplace=True)\n",
        "    df.fillna(df.median(), inplace=True)\n",
        "    return df\n"
      ],
      "metadata": {
        "id": "L14hnTQOKfCb"
      },
      "execution_count": 7,
      "outputs": []
    },
    {
      "cell_type": "markdown",
      "source": [
        "***SMOTE***"
      ],
      "metadata": {
        "id": "TFWDvzp9QqKI"
      }
    },
    {
      "cell_type": "code",
      "source": [
        "def apply_smote(X, y):\n",
        "    smote = SMOTE(random_state=42)\n",
        "    return smote.fit_resample(X, y)\n"
      ],
      "metadata": {
        "id": "BkCSFOcWKt5S"
      },
      "execution_count": 8,
      "outputs": []
    },
    {
      "cell_type": "markdown",
      "source": [
        "***TRAIN MODEL***"
      ],
      "metadata": {
        "id": "ia2BcEDHQsP5"
      }
    },
    {
      "cell_type": "code",
      "source": [
        "def train_models(X_train, y_train):\n",
        "    models = {\n",
        "        \"XGBoost\": xgb.XGBClassifier(n_estimators=100, learning_rate=0.1, max_depth=6, random_state=42, eval_metric='auc'),\n",
        "        \"Random Forest\": RandomForestClassifier(n_estimators=100, random_state=42),\n",
        "        \"Gradient Boosting\": GradientBoostingClassifier(n_estimators=100, learning_rate=0.1, max_depth=3, random_state=42)\n",
        "    }\n",
        "\n",
        "    for name, model in models.items():\n",
        "        print(f\"\\n🔧 Training {name}...\")\n",
        "        model.fit(X_train, y_train)\n",
        "        models[name] = model\n",
        "\n",
        "    return models"
      ],
      "metadata": {
        "id": "dSxinsVaKyDE"
      },
      "execution_count": 9,
      "outputs": []
    },
    {
      "cell_type": "markdown",
      "source": [
        "***EVALUATE MODEL***"
      ],
      "metadata": {
        "id": "yo2yHzNAQvs7"
      }
    },
    {
      "cell_type": "code",
      "source": [
        "def evaluate_model(name, model, X_test, y_test, feature_names):\n",
        "    print(f\"\\n Evaluation for {name}\")\n",
        "    y_pred = model.predict(X_test)\n",
        "    y_proba = model.predict_proba(X_test)[:, 1]\n",
        "\n",
        "    print(classification_report(y_test, y_pred))\n",
        "    print(\"ROC AUC Score:\", roc_auc_score(y_test, y_proba))\n",
        "\n",
        "    # Confusion matrix\n",
        "    cm = confusion_matrix(y_test, y_pred)\n",
        "    plt.figure(figsize=(6, 4))\n",
        "    sns.heatmap(cm, annot=True, fmt='d', cmap='Blues')\n",
        "    plt.title(f'{name} - Confusion Matrix')\n",
        "    plt.savefig(f'{name.lower().replace(\" \", \"_\")}_confusion_matrix.png')\n",
        "    plt.close()\n",
        "\n",
        "\n",
        "    if hasattr(model, 'feature_importances_'):\n",
        "        plt.figure(figsize=(10, 6))\n",
        "        sns.barplot(x=model.feature_importances_, y=feature_names)\n",
        "        plt.title(f'{name} - Feature Importance')\n",
        "        plt.savefig(f'{name.lower().replace(\" \", \"_\")}_feature_importance.png')\n",
        "        plt.close()"
      ],
      "metadata": {
        "id": "T9FQin67Ky0E"
      },
      "execution_count": 10,
      "outputs": []
    },
    {
      "cell_type": "code",
      "source": [
        "def main():\n",
        "    df = load_and_preprocess_data()\n",
        "    if df is None:\n",
        "        return\n",
        "\n",
        "    df = engineer_features(df)\n",
        "\n",
        "    X = df.drop('SeriousDlqin2yrs', axis=1)\n",
        "    y = df['SeriousDlqin2yrs']\n",
        "\n",
        "    X_train, X_test, y_train, y_test = train_test_split(\n",
        "        X, y, test_size=0.2, random_state=42, stratify=y\n",
        "    )\n",
        "\n",
        "    scaler = StandardScaler()\n",
        "    X_train_scaled = scaler.fit_transform(X_train)\n",
        "    X_test_scaled = scaler.transform(X_test)\n",
        "\n",
        "    X_train_resampled, y_train_resampled = apply_smote(X_train_scaled, y_train)\n",
        "\n",
        "    models = train_models(X_train_resampled, y_train_resampled)\n",
        "\n",
        "    for name, model in models.items():\n",
        "        evaluate_model(name, model, pd.DataFrame(X_test_scaled, columns=X.columns), y_test, X.columns)\n",
        "\n",
        "\n",
        "    models[\"XGBoost\"].save_model('credit_risk_model.json')\n",
        "    print(\" XGBoost model saved as 'credit_risk_model.json'\")\n",
        "    print(\" Visuals saved for all models (confusion matrix & feature importance)\")\n",
        "\n",
        "if __name__ == \"__main__\":\n",
        "    main()"
      ],
      "metadata": {
        "colab": {
          "base_uri": "https://localhost:8080/"
        },
        "id": "7MHVK-g-K2nu",
        "outputId": "d8065e77-6396-4f39-9e14-b2d50359bd52"
      },
      "execution_count": 11,
      "outputs": [
        {
          "output_type": "stream",
          "name": "stdout",
          "text": [
            "\n",
            "🔧 Training XGBoost...\n",
            "\n",
            "🔧 Training Random Forest...\n",
            "\n",
            "🔧 Training Gradient Boosting...\n",
            "\n",
            "📈 Evaluation for XGBoost\n",
            "              precision    recall  f1-score   support\n",
            "\n",
            "           0       0.96      0.92      0.94     27995\n",
            "           1       0.32      0.51      0.39      2005\n",
            "\n",
            "    accuracy                           0.89     30000\n",
            "   macro avg       0.64      0.72      0.67     30000\n",
            "weighted avg       0.92      0.89      0.91     30000\n",
            "\n",
            "ROC AUC Score: 0.8448832464293811\n",
            "\n",
            "📈 Evaluation for Random Forest\n"
          ]
        },
        {
          "output_type": "stream",
          "name": "stderr",
          "text": [
            "/usr/local/lib/python3.11/dist-packages/sklearn/utils/validation.py:2732: UserWarning: X has feature names, but RandomForestClassifier was fitted without feature names\n",
            "  warnings.warn(\n",
            "/usr/local/lib/python3.11/dist-packages/sklearn/utils/validation.py:2732: UserWarning: X has feature names, but RandomForestClassifier was fitted without feature names\n",
            "  warnings.warn(\n"
          ]
        },
        {
          "output_type": "stream",
          "name": "stdout",
          "text": [
            "              precision    recall  f1-score   support\n",
            "\n",
            "           0       0.95      0.96      0.95     27995\n",
            "           1       0.36      0.35      0.36      2005\n",
            "\n",
            "    accuracy                           0.92     30000\n",
            "   macro avg       0.66      0.65      0.66     30000\n",
            "weighted avg       0.91      0.92      0.91     30000\n",
            "\n",
            "ROC AUC Score: 0.8269595345445995\n",
            "\n",
            "📈 Evaluation for Gradient Boosting\n",
            "              precision    recall  f1-score   support\n",
            "\n",
            "           0       0.97      0.88      0.92     27995\n",
            "           1       0.28      0.63      0.38      2005\n",
            "\n",
            "    accuracy                           0.87     30000\n",
            "   macro avg       0.62      0.76      0.65     30000\n",
            "weighted avg       0.92      0.87      0.89     30000\n",
            "\n",
            "ROC AUC Score: 0.8533297761133868\n"
          ]
        },
        {
          "output_type": "stream",
          "name": "stderr",
          "text": [
            "/usr/local/lib/python3.11/dist-packages/sklearn/utils/validation.py:2732: UserWarning: X has feature names, but GradientBoostingClassifier was fitted without feature names\n",
            "  warnings.warn(\n",
            "/usr/local/lib/python3.11/dist-packages/sklearn/utils/validation.py:2732: UserWarning: X has feature names, but GradientBoostingClassifier was fitted without feature names\n",
            "  warnings.warn(\n"
          ]
        },
        {
          "output_type": "stream",
          "name": "stdout",
          "text": [
            " XGBoost model saved as 'credit_risk_model.json'\n",
            " Visuals saved for all models (confusion matrix & feature importance)\n"
          ]
        }
      ]
    }
  ]
}